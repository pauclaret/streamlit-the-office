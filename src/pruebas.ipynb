{
 "cells": [
  {
   "cell_type": "code",
   "execution_count": 63,
   "metadata": {},
   "outputs": [],
   "source": [
    "import seaborn as sns\n",
    "import numpy as np\n",
    "import matplotlib.pyplot as plt\n",
    "import pandas as pd\n",
    "\n",
    "episodes_character = pd.read_csv(\"../data/charactersepisode.csv\")\n",
    "lines = pd.read_csv(\"../data/lines.csv\") "
   ]
  },
  {
   "cell_type": "code",
   "execution_count": 64,
   "metadata": {},
   "outputs": [
    {
     "data": {
      "text/html": [
       "<div>\n",
       "<style scoped>\n",
       "    .dataframe tbody tr th:only-of-type {\n",
       "        vertical-align: middle;\n",
       "    }\n",
       "\n",
       "    .dataframe tbody tr th {\n",
       "        vertical-align: top;\n",
       "    }\n",
       "\n",
       "    .dataframe thead th {\n",
       "        text-align: right;\n",
       "    }\n",
       "</style>\n",
       "<table border=\"1\" class=\"dataframe\">\n",
       "  <thead>\n",
       "    <tr style=\"text-align: right;\">\n",
       "      <th></th>\n",
       "      <th>episode_id</th>\n",
       "      <th>complete_name</th>\n",
       "      <th>first_name</th>\n",
       "      <th>last_name</th>\n",
       "    </tr>\n",
       "  </thead>\n",
       "  <tbody>\n",
       "    <tr>\n",
       "      <th>0</th>\n",
       "      <td>0</td>\n",
       "      <td>Michael Scott</td>\n",
       "      <td>Michael</td>\n",
       "      <td>Scott</td>\n",
       "    </tr>\n",
       "    <tr>\n",
       "      <th>1</th>\n",
       "      <td>0</td>\n",
       "      <td>Dwight Schrute</td>\n",
       "      <td>Dwight</td>\n",
       "      <td>Schrute</td>\n",
       "    </tr>\n",
       "    <tr>\n",
       "      <th>2</th>\n",
       "      <td>0</td>\n",
       "      <td>Jim Halpert</td>\n",
       "      <td>Jim</td>\n",
       "      <td>Halpert</td>\n",
       "    </tr>\n",
       "    <tr>\n",
       "      <th>3</th>\n",
       "      <td>0</td>\n",
       "      <td>Pam Beesly</td>\n",
       "      <td>Pam</td>\n",
       "      <td>Beesly</td>\n",
       "    </tr>\n",
       "    <tr>\n",
       "      <th>4</th>\n",
       "      <td>0</td>\n",
       "      <td>Ryan Howard</td>\n",
       "      <td>Ryan</td>\n",
       "      <td>Howard</td>\n",
       "    </tr>\n",
       "  </tbody>\n",
       "</table>\n",
       "</div>"
      ],
      "text/plain": [
       "   episode_id   complete_name first_name last_name\n",
       "0           0   Michael Scott    Michael     Scott\n",
       "1           0  Dwight Schrute     Dwight   Schrute\n",
       "2           0     Jim Halpert        Jim   Halpert\n",
       "3           0      Pam Beesly        Pam    Beesly\n",
       "4           0     Ryan Howard       Ryan    Howard"
      ]
     },
     "execution_count": 64,
     "metadata": {},
     "output_type": "execute_result"
    }
   ],
   "source": [
    "episodes_character.head()"
   ]
  },
  {
   "cell_type": "code",
   "execution_count": 65,
   "metadata": {},
   "outputs": [
    {
     "data": {
      "text/plain": [
       "186"
      ]
     },
     "execution_count": 65,
     "metadata": {},
     "output_type": "execute_result"
    }
   ],
   "source": [
    "len(episodes_character[\"episode_id\"].unique())"
   ]
  },
  {
   "cell_type": "code",
   "execution_count": 66,
   "metadata": {},
   "outputs": [],
   "source": [
    "df_group = episodes_character.groupby(['first_name']).size().reset_index(name='counter')\n",
    "df_group = df_group.sort_values(by = \"counter\", ascending=False)\n",
    "df_group[\"percentage\"] = (df_group[\"counter\"] / len(episodes_character[\"episode_id\"].unique())) * 100\n",
    "df_group = df_group.astype({\"percentage\": int})\n",
    "df_group = df_group.set_index('first_name')"
   ]
  },
  {
   "cell_type": "code",
   "execution_count": 67,
   "metadata": {},
   "outputs": [
    {
     "data": {
      "text/html": [
       "<div>\n",
       "<style scoped>\n",
       "    .dataframe tbody tr th:only-of-type {\n",
       "        vertical-align: middle;\n",
       "    }\n",
       "\n",
       "    .dataframe tbody tr th {\n",
       "        vertical-align: top;\n",
       "    }\n",
       "\n",
       "    .dataframe thead th {\n",
       "        text-align: right;\n",
       "    }\n",
       "</style>\n",
       "<table border=\"1\" class=\"dataframe\">\n",
       "  <thead>\n",
       "    <tr style=\"text-align: right;\">\n",
       "      <th></th>\n",
       "      <th>counter</th>\n",
       "      <th>percentage</th>\n",
       "    </tr>\n",
       "    <tr>\n",
       "      <th>first_name</th>\n",
       "      <th></th>\n",
       "      <th></th>\n",
       "    </tr>\n",
       "  </thead>\n",
       "  <tbody>\n",
       "    <tr>\n",
       "      <th>Jim</th>\n",
       "      <td>186</td>\n",
       "      <td>100</td>\n",
       "    </tr>\n",
       "    <tr>\n",
       "      <th>Stanley</th>\n",
       "      <td>186</td>\n",
       "      <td>100</td>\n",
       "    </tr>\n",
       "    <tr>\n",
       "      <th>Pam</th>\n",
       "      <td>186</td>\n",
       "      <td>100</td>\n",
       "    </tr>\n",
       "    <tr>\n",
       "      <th>Dwight</th>\n",
       "      <td>186</td>\n",
       "      <td>100</td>\n",
       "    </tr>\n",
       "    <tr>\n",
       "      <th>Kevin</th>\n",
       "      <td>186</td>\n",
       "      <td>100</td>\n",
       "    </tr>\n",
       "  </tbody>\n",
       "</table>\n",
       "</div>"
      ],
      "text/plain": [
       "            counter  percentage\n",
       "first_name                     \n",
       "Jim             186         100\n",
       "Stanley         186         100\n",
       "Pam             186         100\n",
       "Dwight          186         100\n",
       "Kevin           186         100"
      ]
     },
     "execution_count": 67,
     "metadata": {},
     "output_type": "execute_result"
    }
   ],
   "source": [
    "df_group.head()"
   ]
  },
  {
   "cell_type": "code",
   "execution_count": 68,
   "metadata": {},
   "outputs": [
    {
     "data": {
      "text/plain": [
       "100"
      ]
     },
     "execution_count": 68,
     "metadata": {},
     "output_type": "execute_result"
    }
   ],
   "source": [
    "df_group.loc[[\"Dwight\"], [\"percentage\"]].values[0][0]"
   ]
  },
  {
   "cell_type": "code",
   "execution_count": 69,
   "metadata": {},
   "outputs": [],
   "source": [
    "def episodios(personaje):\n",
    "    df_group = episodes_character.groupby(['first_name']).size().reset_index(name='counter')\n",
    "    df_group = df_group.sort_values(by = \"counter\", ascending=False)\n",
    "    df_group[\"percentage\"] = (df_group[\"counter\"] / len(episodes_character[\"episode_id\"].unique())) * 100\n",
    "    df_group = df_group.astype({\"percentage\": int})\n",
    "    df_group = df_group.set_index('first_name')\n",
    "    numero = df_group.loc[[f\"{personaje}\"], [\"percentage\"]].values[0][0]\n",
    "    return f\"{personaje} has appeared in {numero} percent of the episodes 🤗\""
   ]
  },
  {
   "cell_type": "code",
   "execution_count": 70,
   "metadata": {},
   "outputs": [
    {
     "data": {
      "text/plain": [
       "'Michael has appeared in 73 percent of the episodes 🤗'"
      ]
     },
     "execution_count": 70,
     "metadata": {},
     "output_type": "execute_result"
    }
   ],
   "source": [
    "episodios(\"Michael\")"
   ]
  },
  {
   "cell_type": "code",
   "execution_count": 111,
   "metadata": {},
   "outputs": [],
   "source": [
    "def season(personaje):\n",
    "    df_distinct = lines.drop_duplicates(subset=['season', 'episode', 'scene','first_name'])\n",
    "    num_distinct = len(lines.drop_duplicates(subset=['season', 'episode', 'scene']))\n",
    "    df_group2 = df_distinct.groupby(['first_name']).size().reset_index(name='counter')\n",
    "    df_group2[\"ai\"] = (df_group2[\"counter\"] / num_distinct) * 100\n",
    "    df_group2 = df_group2.astype({\"ai\": int})\n",
    "    df_group2 = df_group2.set_index('first_name')\n",
    "    numero = df_group2.loc[[f\"{personaje}\"], [\"ai\"]].values[0][0]\n",
    "    return f\"{personaje} has appeared in {numero} percent of the scenes 🍌\"\n"
   ]
  },
  {
   "cell_type": "code",
   "execution_count": 112,
   "metadata": {},
   "outputs": [
    {
     "data": {
      "text/plain": [
       "'Michael has appeared in 34 percent of the scenes 🍌'"
      ]
     },
     "execution_count": 112,
     "metadata": {},
     "output_type": "execute_result"
    }
   ],
   "source": [
    "season(\"Michael\")"
   ]
  },
  {
   "cell_type": "code",
   "execution_count": 127,
   "metadata": {},
   "outputs": [],
   "source": [
    "def lines_episode(personaje):    \n",
    "    df_lines = lines.groupby('first_name').size().reset_index(name='count')\n",
    "    df_lines[\"percentage\"] = (df_lines[\"count\"] / len(episodes_character[\"episode_id\"].unique()))\n",
    "    df_lines = df_lines.astype({\"percentage\": int})\n",
    "    df_lines = df_lines.set_index('first_name')\n",
    "    numero = df_lines.loc[[f\"{personaje}\"], [\"percentage\"]].values[0][0]\n",
    "    return f\"{personaje} has said an average of {numero} sentences per episode 🙌\""
   ]
  },
  {
   "cell_type": "code",
   "execution_count": 129,
   "metadata": {},
   "outputs": [
    {
     "data": {
      "text/plain": [
       "'Jim has said an average of 35 sentences per episode 🙌'"
      ]
     },
     "execution_count": 129,
     "metadata": {},
     "output_type": "execute_result"
    }
   ],
   "source": [
    "lines_episode(\"Jim\")"
   ]
  },
  {
   "cell_type": "code",
   "execution_count": 134,
   "metadata": {},
   "outputs": [],
   "source": [
    "def get_character_info(personaje):\n",
    "    df_group = episodes_character.groupby(['first_name']).size().reset_index(name='counter')\n",
    "    df_group[\"percentage\"] = (df_group[\"counter\"] / len(episodes_character[\"episode_id\"].unique())) * 100\n",
    "    df_group = df_group.set_index('first_name')\n",
    "    episode_percentage = int(df_group.loc[[f\"{personaje}\"], [\"percentage\"]].values[0][0])\n",
    "    \n",
    "    df_distinct = lines.drop_duplicates(subset=['season', 'episode', 'scene','first_name'])\n",
    "    num_distinct = len(lines.drop_duplicates(subset=['season', 'episode', 'scene']))\n",
    "    df_group2 = df_distinct.groupby(['first_name']).size().reset_index(name='counter')\n",
    "    df_group2[\"ai\"] = (df_group2[\"counter\"] / num_distinct) * 100\n",
    "    df_group2 = df_group2.set_index('first_name')\n",
    "    scene_percentage = int(df_group2.loc[[f\"{personaje}\"], [\"ai\"]].values[0][0])\n",
    "    \n",
    "    df_lines = lines.groupby('first_name').size().reset_index(name='count')\n",
    "    df_lines[\"percentage\"] = (df_lines[\"count\"] / len(episodes_character[\"episode_id\"].unique()))\n",
    "    df_lines = df_lines.set_index('first_name')\n",
    "    average_lines = int(df_lines.loc[[f\"{personaje}\"], [\"percentage\"]].values[0][0])\n",
    "    \n",
    "    return f\"{personaje} has appeared in {episode_percentage}% of episodes, {scene_percentage}% of scenes, and has an average of {average_lines} lines per episode 🍌\"\n"
   ]
  },
  {
   "cell_type": "code",
   "execution_count": 135,
   "metadata": {},
   "outputs": [
    {
     "data": {
      "text/plain": [
       "'Michael has appeared in 73% of episodes, 34% of scenes, and has an average of 62 lines per episode 🍌'"
      ]
     },
     "execution_count": 135,
     "metadata": {},
     "output_type": "execute_result"
    }
   ],
   "source": [
    "get_character_info(\"Michael\")"
   ]
  }
 ],
 "metadata": {
  "kernelspec": {
   "display_name": "base",
   "language": "python",
   "name": "python3"
  },
  "language_info": {
   "codemirror_mode": {
    "name": "ipython",
    "version": 3
   },
   "file_extension": ".py",
   "mimetype": "text/x-python",
   "name": "python",
   "nbconvert_exporter": "python",
   "pygments_lexer": "ipython3",
   "version": "3.9.12"
  },
  "orig_nbformat": 4,
  "vscode": {
   "interpreter": {
    "hash": "2d12ee0532f5fe809fea6ed49d84e6d6e9be1b8657fb8079f6358b85f8ed0388"
   }
  }
 },
 "nbformat": 4,
 "nbformat_minor": 2
}
